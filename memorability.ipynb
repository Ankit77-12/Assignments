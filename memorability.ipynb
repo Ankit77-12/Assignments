{
 "cells": [
  {
   "cell_type": "code",
   "execution_count": 2,
   "metadata": {
    "colab": {
     "base_uri": "https://localhost:8080/",
     "height": 35
    },
    "colab_type": "code",
    "id": "lw6aBh6YtpAI",
    "outputId": "d583aef0-b261-4dda-a67e-99e3235223e5"
   },
   "outputs": [
    {
     "ename": "ModuleNotFoundError",
     "evalue": "No module named 'google'",
     "output_type": "error",
     "traceback": [
      "\u001b[1;31m---------------------------------------------------------------------------\u001b[0m",
      "\u001b[1;31mModuleNotFoundError\u001b[0m                       Traceback (most recent call last)",
      "\u001b[1;32m<ipython-input-2-355e87e08e2b>\u001b[0m in \u001b[0;36m<module>\u001b[1;34m\u001b[0m\n\u001b[1;32m----> 1\u001b[1;33m \u001b[1;32mfrom\u001b[0m \u001b[0mgoogle\u001b[0m\u001b[1;33m.\u001b[0m\u001b[0mcolab\u001b[0m \u001b[1;32mimport\u001b[0m \u001b[0mdrive\u001b[0m\u001b[1;33m\u001b[0m\u001b[1;33m\u001b[0m\u001b[0m\n\u001b[0m\u001b[0;32m      2\u001b[0m \u001b[0mdrive\u001b[0m\u001b[1;33m.\u001b[0m\u001b[0mmount\u001b[0m\u001b[1;33m(\u001b[0m\u001b[1;34m'C:/Users/LENOVO/Desktop/Machine Learning/MediaEval-Media-Memorability-master'\u001b[0m\u001b[1;33m)\u001b[0m\u001b[1;33m\u001b[0m\u001b[1;33m\u001b[0m\u001b[0m\n",
      "\u001b[1;31mModuleNotFoundError\u001b[0m: No module named 'google'"
     ]
    }
   ],
   "source": [
    "from google.colab import drive\n",
    "drive.mount('C:/Users/LENOVO/Desktop/Machine Learning/MediaEval-Media-Memorability-master')"
   ]
  },
  {
   "cell_type": "markdown",
   "metadata": {
    "colab_type": "text",
    "id": "onKXg5Q0ubRF"
   },
   "source": [
    "## Install necessary Libraries"
   ]
  },
  {
   "cell_type": "code",
   "execution_count": null,
   "metadata": {
    "colab": {},
    "colab_type": "code",
    "id": "jMFhooMFtzpQ"
   },
   "outputs": [],
   "source": [
    "import os\n",
    "os.chdir(\"/content/drive/My Drive/MediaEval/\")"
   ]
  },
  {
   "cell_type": "markdown",
   "metadata": {
    "colab_type": "text",
    "id": "Gz4O2sKnujaI"
   },
   "source": [
    "## Import Libraries"
   ]
  },
  {
   "cell_type": "code",
   "execution_count": 7,
   "metadata": {
    "colab": {
     "base_uri": "https://localhost:8080/"
    },
    "colab_type": "code",
    "id": "lLtbrlF3uXaK",
    "outputId": "d55a9b83-ba9f-4d7c-8678-6a6e5a6fd1f6"
   },
   "outputs": [
    {
     "name": "stderr",
     "output_type": "stream",
     "text": [
      "Using TensorFlow backend.\n"
     ]
    }
   ],
   "source": [
    "## Initial Library Imports\n",
    "import pandas as pd\n",
    "import scipy\n",
    "from keras import Sequential\n",
    "from keras import layers\n",
    "from keras import regularizers\n",
    "import numpy as np\n",
    "from string import punctuation\n",
    "from collections import Counter\n",
    "from keras.preprocessing.text import Tokenizer\n",
    "from sklearn.model_selection import train_test_split\n",
    "import matplotlib.pyplot as plt"
   ]
  },
  {
   "cell_type": "markdown",
   "metadata": {
    "colab_type": "text",
    "id": "NA6_zvDVuul1"
   },
   "source": [
    "## Import data i.e captions"
   ]
  },
  {
   "cell_type": "code",
   "execution_count": null,
   "metadata": {
    "colab": {},
    "colab_type": "code",
    "id": "5n7M8s0fuH3s"
   },
   "outputs": [],
   "source": [
    "# load labels and captions\n",
    "def read_caps(fname):\n",
    "    \"\"\"Load the captions into a dataframe\"\"\"\n",
    "    vn = []\n",
    "    cap = []\n",
    "    df = pd.DataFrame();\n",
    "    with open(fname) as f:\n",
    "        for line in f:\n",
    "            pairs = line.split()\n",
    "            vn.append(pairs[0])\n",
    "            cap.append(pairs[1])\n",
    "        df['video']=vn\n",
    "        df['caption']=cap\n",
    "    return df\n",
    "\n",
    "\n",
    "# load the captions\n",
    "cap_path = './dev-set/dev-set_video-captions.txt'\n",
    "df_cap=read_caps(cap_path)\n",
    "\n",
    "# load the ground truth values\n",
    "label_path = './dev-set/'\n",
    "labels=pd.read_csv(label_path+'dev-set_ground-truth.csv')"
   ]
  },
  {
   "cell_type": "code",
   "execution_count": null,
   "metadata": {
    "colab": {},
    "colab_type": "code",
    "id": "O2fGVN4WuU_e"
   },
   "outputs": [],
   "source": [
    "#df_cap\n",
    "#labels"
   ]
  },
  {
   "cell_type": "markdown",
   "metadata": {
    "colab_type": "text",
    "id": "cpj6xn1gvBKe"
   },
   "source": [
    "## Data Preprocessing "
   ]
  },
  {
   "cell_type": "code",
   "execution_count": null,
   "metadata": {
    "colab": {},
    "colab_type": "code",
    "id": "5czVp__Yu4j3"
   },
   "outputs": [],
   "source": [
    "## Lets count the words and remove punctuations\n",
    "counts = Counter()\n",
    "for i, cap in enumerate(df_cap['caption']):\n",
    "    # replace punctuations with space\n",
    "    # convert words to lower case \n",
    "    text = ''.join([c if c not in punctuation else ' ' for c in cap]).lower()\n",
    "    df_cap.loc[i,'caption'] = text\n",
    "    counts.update(text.split())"
   ]
  },
  {
   "cell_type": "code",
   "execution_count": null,
   "metadata": {
    "colab": {},
    "colab_type": "code",
    "id": "oJmpl9Rzzm0G"
   },
   "outputs": [],
   "source": [
    "#counts\n",
    "#len(counts)"
   ]
  },
  {
   "cell_type": "markdown",
   "metadata": {
    "colab_type": "text",
    "id": "CyFaxuaXz9AP"
   },
   "source": [
    "## Text Mapping "
   ]
  },
  {
   "cell_type": "code",
   "execution_count": null,
   "metadata": {
    "colab": {},
    "colab_type": "code",
    "id": "MdT62HYLz3x_"
   },
   "outputs": [],
   "source": [
    "len_token = len(counts) # create length of token\n",
    "tokenizer = Tokenizer(num_words=len_token) # use tokenizer\n",
    "#print(len_token)"
   ]
  },
  {
   "cell_type": "code",
   "execution_count": null,
   "metadata": {
    "colab": {},
    "colab_type": "code",
    "id": "wwZITEyn0OSS"
   },
   "outputs": [],
   "source": [
    "tokenizer.fit_on_texts(list(df_cap.caption.values)) #fit a list of captions to the tokenizer\n",
    "#the tokenizer vectorizes a text corpus, by turning each text into either a sequence of integers "
   ]
  },
  {
   "cell_type": "markdown",
   "metadata": {
    "colab_type": "text",
    "id": "s9GZvRJV0YuV"
   },
   "source": [
    "## One-Hot Encoding of text"
   ]
  },
  {
   "cell_type": "code",
   "execution_count": null,
   "metadata": {
    "colab": {},
    "colab_type": "code",
    "id": "knEYTf780YL0"
   },
   "outputs": [],
   "source": [
    "## Convert the integers into binary 0 and 1 format\n",
    "one_hot_res = tokenizer.texts_to_matrix(list(df_cap.caption.values),mode='binary')\n"
   ]
  },
  {
   "cell_type": "code",
   "execution_count": null,
   "metadata": {
    "colab": {},
    "colab_type": "code",
    "id": "AJj5LN3Y0Vl6"
   },
   "outputs": [],
   "source": [
    "#one_hot_res.shape"
   ]
  },
  {
   "cell_type": "markdown",
   "metadata": {
    "colab_type": "text",
    "id": "ww3VEpL51H24"
   },
   "source": [
    "## Get X and Y values for prediction"
   ]
  },
  {
   "cell_type": "code",
   "execution_count": null,
   "metadata": {
    "colab": {},
    "colab_type": "code",
    "id": "7HcJw9nS0yu4"
   },
   "outputs": [],
   "source": [
    "## one_hot_res will be our X variable\n",
    "## predictor will be our Y variable\n",
    "predictor = labels[['short-term_memorability','long-term_memorability']].values\n",
    "Y = predictor\n",
    "X = one_hot_res\n"
   ]
  },
  {
   "cell_type": "markdown",
   "metadata": {
    "colab_type": "text",
    "id": "m9HjS5S71S14"
   },
   "source": [
    "## Train-Test Split"
   ]
  },
  {
   "cell_type": "code",
   "execution_count": null,
   "metadata": {
    "colab": {},
    "colab_type": "code",
    "id": "H4TCxun11SNY"
   },
   "outputs": [],
   "source": [
    "X_train, X_test, Y_train, Y_test = train_test_split(X,Y, test_size=0.2, random_state=42)"
   ]
  },
  {
   "cell_type": "markdown",
   "metadata": {
    "colab_type": "text",
    "id": "s9bqELxt1gNd"
   },
   "source": [
    "## Lets build our model. We use keras as it provides GPU supports for faster training"
   ]
  },
  {
   "cell_type": "markdown",
   "metadata": {
    "colab_type": "text",
    "id": "T8a8lwVAA3Dj"
   },
   "source": [
    "### Multilayer perceptron Model"
   ]
  },
  {
   "cell_type": "code",
   "execution_count": 32,
   "metadata": {
    "colab": {
     "base_uri": "https://localhost:8080/",
     "height": 1300
    },
    "colab_type": "code",
    "id": "3WC7QiIu1GTg",
    "outputId": "ec1c68eb-c127-4620-b3e5-5b6a6d8ba652"
   },
   "outputs": [
    {
     "name": "stdout",
     "output_type": "stream",
     "text": [
      "Train on 4800 samples, validate on 1200 samples\n",
      "Epoch 1/20\n",
      "4800/4800 [==============================] - 1s 255us/step - loss: 0.0524 - acc: 0.6469 - val_loss: 0.0231 - val_acc: 0.7100\n",
      "Epoch 2/20\n",
      "4800/4800 [==============================] - 1s 148us/step - loss: 0.0325 - acc: 0.6535 - val_loss: 0.0198 - val_acc: 0.7100\n",
      "Epoch 3/20\n",
      "4800/4800 [==============================] - 1s 147us/step - loss: 0.0268 - acc: 0.6800 - val_loss: 0.0176 - val_acc: 0.7100\n",
      "Epoch 4/20\n",
      "4800/4800 [==============================] - 1s 135us/step - loss: 0.0244 - acc: 0.6804 - val_loss: 0.0163 - val_acc: 0.7100\n",
      "Epoch 5/20\n",
      "4800/4800 [==============================] - 1s 138us/step - loss: 0.0224 - acc: 0.6844 - val_loss: 0.0155 - val_acc: 0.7100\n",
      "Epoch 6/20\n",
      "4800/4800 [==============================] - 1s 137us/step - loss: 0.0206 - acc: 0.6877 - val_loss: 0.0149 - val_acc: 0.7100\n",
      "Epoch 7/20\n",
      "4800/4800 [==============================] - 1s 136us/step - loss: 0.0195 - acc: 0.6931 - val_loss: 0.0146 - val_acc: 0.7100\n",
      "Epoch 8/20\n",
      "4800/4800 [==============================] - 1s 135us/step - loss: 0.0189 - acc: 0.6927 - val_loss: 0.0143 - val_acc: 0.7100\n",
      "Epoch 9/20\n",
      "4800/4800 [==============================] - 1s 135us/step - loss: 0.0178 - acc: 0.6887 - val_loss: 0.0142 - val_acc: 0.7100\n",
      "Epoch 10/20\n",
      "4800/4800 [==============================] - 1s 135us/step - loss: 0.0174 - acc: 0.6956 - val_loss: 0.0140 - val_acc: 0.7100\n",
      "Epoch 11/20\n",
      "4800/4800 [==============================] - 1s 136us/step - loss: 0.0165 - acc: 0.6979 - val_loss: 0.0140 - val_acc: 0.7100\n",
      "Epoch 12/20\n",
      "4800/4800 [==============================] - 1s 134us/step - loss: 0.0163 - acc: 0.7000 - val_loss: 0.0139 - val_acc: 0.7100\n",
      "Epoch 13/20\n",
      "4800/4800 [==============================] - 1s 137us/step - loss: 0.0162 - acc: 0.6981 - val_loss: 0.0139 - val_acc: 0.7100\n",
      "Epoch 14/20\n",
      "4800/4800 [==============================] - 1s 134us/step - loss: 0.0156 - acc: 0.7017 - val_loss: 0.0139 - val_acc: 0.7100\n",
      "Epoch 15/20\n",
      "4800/4800 [==============================] - 1s 136us/step - loss: 0.0152 - acc: 0.7029 - val_loss: 0.0138 - val_acc: 0.7100\n",
      "Epoch 16/20\n",
      "4800/4800 [==============================] - 1s 135us/step - loss: 0.0149 - acc: 0.7033 - val_loss: 0.0138 - val_acc: 0.7100\n",
      "Epoch 17/20\n",
      "4800/4800 [==============================] - 1s 136us/step - loss: 0.0146 - acc: 0.7035 - val_loss: 0.0139 - val_acc: 0.7100\n",
      "Epoch 18/20\n",
      "4800/4800 [==============================] - 1s 135us/step - loss: 0.0144 - acc: 0.7035 - val_loss: 0.0138 - val_acc: 0.7100\n",
      "Epoch 19/20\n",
      "4800/4800 [==============================] - 1s 135us/step - loss: 0.0142 - acc: 0.7035 - val_loss: 0.0138 - val_acc: 0.7100\n",
      "Epoch 20/20\n",
      "4800/4800 [==============================] - 1s 139us/step - loss: 0.0141 - acc: 0.7035 - val_loss: 0.0138 - val_acc: 0.7100\n"
     ]
    },
    {
     "data": {
      "image/png": "[encoded data removed]",
      "text/plain": [
       "<Figure size 432x288 with 1 Axes>"
      ]
     },
     "metadata": {
      "tags": []
     },
     "output_type": "display_data"
    },
    {
     "data": {
      "image/png": "[encoded data removed]",
      "text/plain": [
       "<Figure size 432x288 with 1 Axes>"
      ]
     },
     "metadata": {
      "tags": []
     },
     "output_type": "display_data"
    }
   ],
   "source": [
    "## Multi Layer perceptron Model \n",
    "\n",
    "model=Sequential() # Create Sequential NN model\n",
    "\n",
    "## Add layers for MLP\n",
    "model.add(layers.Dropout(0.6, input_shape=(len_token,))) # add dropout layer\n",
    "\n",
    "# layer of 10 neurons with selu activation function, L2 Regularization and initial weights as zeros\n",
    "model.add(layers.Dense(10,activation='selu',kernel_regularizer=regularizers.l2(0.001), kernel_initializer='zeros')) \n",
    "\n",
    "# layer of 10 neurons with selu activation function and L2 Regularization\n",
    "model.add(layers.Dense(10,activation='selu',kernel_regularizer=regularizers.l2(0.001)))\n",
    "\n",
    "# add dropout\n",
    "model.add(layers.Dropout(0.6))\n",
    "model.add(layers.Dense(2,activation='sigmoid')) ## Last activation as sigmoid to predict score\n",
    "\n",
    "## Compile the model \n",
    "# Optimizer Adamax\n",
    "model.compile(optimizer='adamax',loss='mse',metrics=['accuracy'])\n",
    "\n",
    "## All hyperparameters are selected using GridSearch and Trial & Error Approach\n",
    "\n",
    "## Training the model \n",
    "# Number of epochs also comes from Gridsearch\n",
    "history = model.fit(X_train,Y_train,epochs=20, validation_data=(X_test,Y_test))\n",
    "\n",
    "# visualizing the model\n",
    "loss = history.history['loss']\n",
    "val_loss = history.history['val_loss']\n",
    "\n",
    "epochs = range(1,len(loss)+1)\n",
    "\n",
    "plt.plot(epochs,loss,'bo',label='Training loss')\n",
    "plt.plot(epochs,val_loss,'b',label='Validation loss')\n",
    "plt.title('Training and validation loss')\n",
    "plt.xlabel('Epochs')\n",
    "plt.ylabel('Loss')\n",
    "plt.legend()\n",
    "plt.show()\n",
    "\n",
    "plt.figure()\n",
    "acc = history.history['acc']\n",
    "val_acc = history.history['val_acc']\n",
    "plt.plot(epochs, acc, 'bo', label='Training acc')\n",
    "plt.plot(epochs, val_acc, 'b', label='Validation acc')\n",
    "plt.title('Training and validation accuracy')\n",
    "plt.xlabel('Epochs')\n",
    "plt.ylabel('Acc')\n",
    "plt.legend()\n",
    "plt.show()\n",
    "\n"
   ]
  },
  {
   "cell_type": "markdown",
   "metadata": {
    "colab_type": "text",
    "id": "EuL1q7VnZO-N"
   },
   "source": [
    "## To predict and test the model. See the code at the end"
   ]
  },
  {
   "cell_type": "markdown",
   "metadata": {
    "colab_type": "text",
    "id": "gxRLs6hAIYIV"
   },
   "source": [
    "## Convolutional Neural Network Model\n"
   ]
  },
  {
   "cell_type": "code",
   "execution_count": 28,
   "metadata": {
    "colab": {
     "base_uri": "https://localhost:8080/",
     "height": 1409
    },
    "colab_type": "code",
    "id": "jAkjh5gUIWvx",
    "outputId": "3c704c4a-3619-4d6e-fab4-717780510370"
   },
   "outputs": [
    {
     "name": "stderr",
     "output_type": "stream",
     "text": [
      "/usr/local/lib/python3.6/dist-packages/ipykernel_launcher.py:13: UserWarning: Update your `Embedding` call to the Keras 2 API: `Embedding(5191, 100, input_length=5191, embeddings_initializer=\"uniform\")`\n",
      "  del sys.path[0]\n"
     ]
    },
    {
     "name": "stdout",
     "output_type": "stream",
     "text": [
      "WARNING:tensorflow:From /usr/local/lib/python3.6/dist-packages/tensorflow/python/ops/math_grad.py:102: div (from tensorflow.python.ops.math_ops) is deprecated and will be removed in a future version.\n",
      "Instructions for updating:\n",
      "Deprecated in favor of operator or tf.math.divide.\n",
      "Train on 4800 samples, validate on 1200 samples\n",
      "Epoch 1/20\n",
      "4800/4800 [==============================] - 10s 2ms/step - loss: 0.0364 - acc: 0.7035 - val_loss: 0.0285 - val_acc: 0.7100\n",
      "Epoch 2/20\n",
      "4800/4800 [==============================] - 7s 1ms/step - loss: 0.0247 - acc: 0.7035 - val_loss: 0.0223 - val_acc: 0.7100\n",
      "Epoch 3/20\n",
      "4800/4800 [==============================] - 7s 1ms/step - loss: 0.0204 - acc: 0.7035 - val_loss: 0.0193 - val_acc: 0.7100\n",
      "Epoch 4/20\n",
      "4800/4800 [==============================] - 7s 1ms/step - loss: 0.0182 - acc: 0.7035 - val_loss: 0.0178 - val_acc: 0.7100\n",
      "Epoch 5/20\n",
      "4800/4800 [==============================] - 7s 1ms/step - loss: 0.0170 - acc: 0.7035 - val_loss: 0.0169 - val_acc: 0.7100\n",
      "Epoch 6/20\n",
      "4800/4800 [==============================] - 7s 1ms/step - loss: 0.0163 - acc: 0.7035 - val_loss: 0.0166 - val_acc: 0.7100\n",
      "Epoch 7/20\n",
      "4800/4800 [==============================] - 7s 1ms/step - loss: 0.0158 - acc: 0.7035 - val_loss: 0.0160 - val_acc: 0.7100\n",
      "Epoch 8/20\n",
      "4800/4800 [==============================] - 7s 1ms/step - loss: 0.0155 - acc: 0.7035 - val_loss: 0.0157 - val_acc: 0.7100\n",
      "Epoch 9/20\n",
      "4800/4800 [==============================] - 7s 1ms/step - loss: 0.0153 - acc: 0.7035 - val_loss: 0.0155 - val_acc: 0.7100\n",
      "Epoch 10/20\n",
      "4800/4800 [==============================] - 7s 1ms/step - loss: 0.0151 - acc: 0.7035 - val_loss: 0.0154 - val_acc: 0.7100\n",
      "Epoch 11/20\n",
      "4800/4800 [==============================] - 7s 1ms/step - loss: 0.0149 - acc: 0.7035 - val_loss: 0.0152 - val_acc: 0.7100\n",
      "Epoch 12/20\n",
      "4800/4800 [==============================] - 7s 1ms/step - loss: 0.0148 - acc: 0.7035 - val_loss: 0.0155 - val_acc: 0.7100\n",
      "Epoch 13/20\n",
      "4800/4800 [==============================] - 7s 1ms/step - loss: 0.0147 - acc: 0.7035 - val_loss: 0.0149 - val_acc: 0.7100\n",
      "Epoch 14/20\n",
      "4800/4800 [==============================] - 7s 1ms/step - loss: 0.0146 - acc: 0.7035 - val_loss: 0.0149 - val_acc: 0.7100\n",
      "Epoch 15/20\n",
      "4800/4800 [==============================] - 7s 1ms/step - loss: 0.0145 - acc: 0.7035 - val_loss: 0.0149 - val_acc: 0.7100\n",
      "Epoch 16/20\n",
      "4800/4800 [==============================] - 7s 1ms/step - loss: 0.0145 - acc: 0.7035 - val_loss: 0.0148 - val_acc: 0.7100\n",
      "Epoch 17/20\n",
      "4800/4800 [==============================] - 7s 1ms/step - loss: 0.0144 - acc: 0.7035 - val_loss: 0.0147 - val_acc: 0.7100\n",
      "Epoch 18/20\n",
      "4800/4800 [==============================] - 7s 1ms/step - loss: 0.0144 - acc: 0.7035 - val_loss: 0.0146 - val_acc: 0.7100\n",
      "Epoch 19/20\n",
      "4800/4800 [==============================] - 7s 1ms/step - loss: 0.0143 - acc: 0.7035 - val_loss: 0.0145 - val_acc: 0.7100\n",
      "Epoch 20/20\n",
      "4800/4800 [==============================] - 7s 1ms/step - loss: 0.0142 - acc: 0.7035 - val_loss: 0.0145 - val_acc: 0.7100\n"
     ]
    },
    {
     "data": {
      "image/png": "[encoded data removed]",
      "text/plain": [
       "<Figure size 432x288 with 1 Axes>"
      ]
     },
     "metadata": {
      "tags": []
     },
     "output_type": "display_data"
    },
    {
     "data": {
      "image/png": "[encoded data removed]",
      "text/plain": [
       "<Figure size 432x288 with 1 Axes>"
      ]
     },
     "metadata": {
      "tags": []
     },
     "output_type": "display_data"
    }
   ],
   "source": [
    "# Some prerequiste for RNN\n",
    "## one_hot_res will be our X variable\n",
    "## predictor will be our Y variable\n",
    "predictor = labels[['short-term_memorability','long-term_memorability']].values\n",
    "Y = predictor\n",
    "X = one_hot_res\n",
    "X_train, X_test, Y_train, Y_test = train_test_split(X,Y, test_size=0.2, random_state=42)\n",
    "\n",
    "## Convolutional Neural Network \n",
    "embedding_dim = 100 # Embedding dimension to convert / reduce captions dimensions\n",
    "vocab_size=5191 # Size of our vocabulary\n",
    "\n",
    "model=Sequential() # Create Sequential NN model\n",
    "\n",
    "## add Embedding layer to convert dimensions required by Convolutional Layer\n",
    "model.add(layers.Embedding(vocab_size, embedding_dim, input_length=5191, init='uniform'))\n",
    "\n",
    "## add 1D Convolutional Layer of with 128 filters and 5 as length of Convolutional window\n",
    "model.add(layers.Conv1D(128, 5, activation='selu', kernel_initializer='zeros', kernel_regularizer=regularizers.l2(0.001)))\n",
    "\n",
    "## add global max pooling layers as it a Naturnal Language Processing task\n",
    "model.add(layers.GlobalMaxPooling1D())\n",
    "\n",
    "## layer of 10 neurons with Ridge Regularization and dropout\n",
    "model.add(layers.Dense(10, activation='selu', kernel_regularizer=regularizers.l2(0.001)))\n",
    "#model.add(layers.Dropout(0.6))\n",
    "\n",
    "## layer of 10 neurons with Ridge Regularization\n",
    "model.add(layers.Dense(10,activation='selu',kernel_regularizer=regularizers.l2(0.001)))\n",
    "#model.add(layers.Dropout(0.6))\n",
    "\n",
    "## output layer with 2 neurons for each score with sigmoid activation\n",
    "model.add(layers.Dense(2, activation='sigmoid'))\n",
    "\n",
    "# compile the model \n",
    "model.compile(optimizer='adamax',loss='mse',metrics=['accuracy'])\n",
    "\n",
    "# training the model \n",
    "history = model.fit(X_train,Y_train,epochs=20, validation_data=(X_test,Y_test))\n",
    "\n",
    "# visualizing the model\n",
    "loss = history.history['loss']\n",
    "val_loss = history.history['val_loss']\n",
    "\n",
    "epochs = range(1,len(loss)+1)\n",
    "\n",
    "plt.plot(epochs,loss,'bo',label='Training loss')\n",
    "plt.plot(epochs,val_loss,'b',label='Validation loss')\n",
    "plt.title('Training and validation loss')\n",
    "plt.xlabel('Epochs')\n",
    "plt.ylabel('Loss')\n",
    "plt.legend()\n",
    "plt.show()\n",
    "\n",
    "plt.figure()\n",
    "acc = history.history['acc']\n",
    "#acc = history.history['soft_acc']\n",
    "#val_acc = history.history['val_soft_acc']\n",
    "val_acc = history.history['val_acc']\n",
    "plt.plot(epochs, acc, 'bo', label='Training acc')\n",
    "plt.plot(epochs, val_acc, 'b', label='Validation acc')\n",
    "plt.title('Training and validation accuracy')\n",
    "plt.xlabel('Epochs')\n",
    "plt.ylabel('Acc')\n",
    "plt.legend()\n",
    "plt.show()"
   ]
  },
  {
   "cell_type": "markdown",
   "metadata": {
    "colab_type": "text",
    "id": "iq6VbVM7ZXoX"
   },
   "source": [
    "## To predict and test the model. See the code at the end"
   ]
  },
  {
   "cell_type": "markdown",
   "metadata": {
    "colab_type": "text",
    "id": "lTrPHo_OA_g7"
   },
   "source": [
    "## Recurrent Neural Network Model"
   ]
  },
  {
   "cell_type": "code",
   "execution_count": null,
   "metadata": {
    "colab": {},
    "colab_type": "code",
    "id": "KQ6fUdO5A8p2"
   },
   "outputs": [],
   "source": [
    "# For RNN we will need to use sequence embedding instead of one hot encoding\n",
    "## Sequence Encoding of the text\n",
    "sequences = tokenizer.texts_to_sequences(list(df_cap.caption.values))"
   ]
  },
  {
   "cell_type": "code",
   "execution_count": null,
   "metadata": {
    "colab": {
     "base_uri": "https://localhost:8080/",
     "height": 35
    },
    "colab_type": "code",
    "id": "9LqMjucEBhiV",
    "outputId": "3baafc17-6c39-4752-dd38-2415ad8ec5fd"
   },
   "outputs": [
    {
     "name": "stdout",
     "output_type": "stream",
     "text": [
      "[724, 7, 35, 884, 384, 91]\n"
     ]
    }
   ],
   "source": [
    "#print(sequences[0])"
   ]
  },
  {
   "cell_type": "markdown",
   "metadata": {
    "colab_type": "text",
    "id": "fUg-9bQVBlbh"
   },
   "source": [
    "### Making sequence encoding of same length to ensure we have same number of dimensions across all elements"
   ]
  },
  {
   "cell_type": "code",
   "execution_count": 23,
   "metadata": {
    "colab": {
     "base_uri": "https://localhost:8080/"
    },
    "colab_type": "code",
    "id": "seeIM8YpBlDJ",
    "outputId": "2f84048d-584a-4a29-cf38-039671492cbb"
   },
   "outputs": [
    {
     "data": {
      "text/plain": [
       "(6000, 50)"
      ]
     },
     "execution_count": 23,
     "metadata": {
      "tags": []
     },
     "output_type": "execute_result"
    }
   ],
   "source": [
    "## set max length of all dimensions to 50\n",
    "max_length=50\n",
    "X_seq = np.zeros((len(sequences),max_length))\n",
    "for i in range(len(sequences)):\n",
    "    n = len(sequences[i])\n",
    "    if n==0:\n",
    "        print(i)\n",
    "    else:\n",
    "        X_seq[i,-n:] = sequences[i]\n",
    "X_seq.shape"
   ]
  },
  {
   "cell_type": "markdown",
   "metadata": {
    "colab_type": "text",
    "id": "kOjlB207CKUj"
   },
   "source": [
    "## Build and train RNN Model "
   ]
  },
  {
   "cell_type": "code",
   "execution_count": 37,
   "metadata": {
    "colab": {
     "base_uri": "https://localhost:8080/",
     "height": 1001
    },
    "colab_type": "code",
    "id": "J26ocLcFCNU6",
    "outputId": "5a012b89-0208-4558-b6f9-107999d415f7"
   },
   "outputs": [
    {
     "name": "stderr",
     "output_type": "stream",
     "text": [
      "/usr/local/lib/python3.6/dist-packages/ipykernel_launcher.py:14: UserWarning: Update your `Embedding` call to the Keras 2 API: `Embedding(input_dim=5191, output_dim=20, input_length=50, embeddings_initializer=\"uniform\")`\n",
      "  \n"
     ]
    },
    {
     "name": "stdout",
     "output_type": "stream",
     "text": [
      "Train on 4800 samples, validate on 1200 samples\n",
      "Epoch 1/10\n",
      "4800/4800 [==============================] - 17s 3ms/step - loss: 0.0524 - acc: 0.6052 - val_loss: 0.0321 - val_acc: 0.7100\n",
      "Epoch 2/10\n",
      "4800/4800 [==============================] - 15s 3ms/step - loss: 0.0312 - acc: 0.6473 - val_loss: 0.0231 - val_acc: 0.7100\n",
      "Epoch 3/10\n",
      "4800/4800 [==============================] - 16s 3ms/step - loss: 0.0240 - acc: 0.6688 - val_loss: 0.0187 - val_acc: 0.7100\n",
      "Epoch 4/10\n",
      "4800/4800 [==============================] - 16s 3ms/step - loss: 0.0204 - acc: 0.6808 - val_loss: 0.0166 - val_acc: 0.7100\n",
      "Epoch 5/10\n",
      "4800/4800 [==============================] - 16s 3ms/step - loss: 0.0183 - acc: 0.6850 - val_loss: 0.0157 - val_acc: 0.7100\n",
      "Epoch 6/10\n",
      "4800/4800 [==============================] - 16s 3ms/step - loss: 0.0170 - acc: 0.6910 - val_loss: 0.0145 - val_acc: 0.7100\n",
      "Epoch 7/10\n",
      "4800/4800 [==============================] - 17s 4ms/step - loss: 0.0157 - acc: 0.6967 - val_loss: 0.0144 - val_acc: 0.7100\n",
      "Epoch 8/10\n",
      "4800/4800 [==============================] - 16s 3ms/step - loss: 0.0157 - acc: 0.6985 - val_loss: 0.0142 - val_acc: 0.7100\n",
      "Epoch 9/10\n",
      "4800/4800 [==============================] - 16s 3ms/step - loss: 0.0150 - acc: 0.7006 - val_loss: 0.0140 - val_acc: 0.7100\n",
      "Epoch 10/10\n",
      "4800/4800 [==============================] - 15s 3ms/step - loss: 0.0145 - acc: 0.7025 - val_loss: 0.0141 - val_acc: 0.7100\n"
     ]
    },
    {
     "data": {
      "image/png": "[encoded data removed]",
      "text/plain": [
       "<Figure size 432x288 with 1 Axes>"
      ]
     },
     "metadata": {
      "tags": []
     },
     "output_type": "display_data"
    },
    {
     "data": {
      "image/png": "[encoded data removed]",
      "text/plain": [
       "<Figure size 432x288 with 1 Axes>"
      ]
     },
     "metadata": {
      "tags": []
     },
     "output_type": "display_data"
    }
   ],
   "source": [
    "# Some prequisites for RNN\n",
    "## sequences will be our X variable\n",
    "## predictor will be our Y variable\n",
    "predictor = labels[['short-term_memorability','long-term_memorability']].values\n",
    "Y = predictor\n",
    "X = X_seq\n",
    "## Train-Test Split\n",
    "X_train, X_test, Y_train, Y_test = train_test_split(X,Y, test_size=0.2, random_state=42)\n",
    "\n",
    "\n",
    "## Recurrent Neural Network Model \n",
    "## All hyperparameters are selected using GridSearch and Trial & Error Approach\n",
    "\n",
    "model=Sequential() # Create Sequential NN model\n",
    "\n",
    "## add Embedding layer for RNN to map our data into a format suitable for LSTM layer\n",
    "model.add(layers.Embedding(input_dim=5191, output_dim=20, input_length=50, init='uniform'))\n",
    "\n",
    "## add LSTM layer for some hidden layer and memory into the network\n",
    "model.add(layers.LSTM(150, activation='selu', recurrent_initializer='uniform', kernel_initializer='zeros', kernel_regularizer=regularizers.l2(0.001)))\n",
    "model.add(layers.Dropout(0.2))\n",
    "\n",
    "## layer of 30 neurons to map down from 150 hidden neurons with ridge regularizer\n",
    "model.add(layers.Dense(30, activation='selu', kernel_regularizer=regularizers.l2(0.001)))\n",
    "\n",
    "## Dropout layer\n",
    "model.add(layers.Dropout(0.6))\n",
    "\n",
    "## Output layer of 2 neurons for each score with sigmoid activation \n",
    "model.add(layers.Dense(2, activation='sigmoid'))\n",
    "\n",
    "## Compile the model \n",
    "# Optimizer Adamax\n",
    "model.compile(optimizer='adamax',loss='mse',metrics=['accuracy'])\n",
    "\n",
    "\n",
    "## Training the model \n",
    "# Number of epochs also comes from Gridsearch\n",
    "history = model.fit(X_train,Y_train,epochs=10, validation_data=(X_test,Y_test))\n",
    "\n",
    "# visualizing the model\n",
    "loss = history.history['loss']\n",
    "val_loss = history.history['val_loss']\n",
    "\n",
    "epochs = range(1,len(loss)+1)\n",
    "\n",
    "plt.plot(epochs,loss,'bo',label='Training loss')\n",
    "plt.plot(epochs,val_loss,'b',label='Validation loss')\n",
    "plt.title('Training and validation loss')\n",
    "plt.xlabel('Epochs')\n",
    "plt.ylabel('Loss')\n",
    "plt.legend()\n",
    "plt.show()\n",
    "\n",
    "plt.figure()\n",
    "acc = history.history['acc']\n",
    "val_acc = history.history['val_acc']\n",
    "plt.plot(epochs, acc, 'bo', label='Training acc')\n",
    "plt.plot(epochs, val_acc, 'b', label='Validation acc')\n",
    "plt.title('Training and validation accuracy')\n",
    "plt.xlabel('Epochs')\n",
    "plt.ylabel('Acc')\n",
    "plt.legend()\n",
    "plt.show()\n",
    "\n"
   ]
  },
  {
   "cell_type": "markdown",
   "metadata": {
    "colab_type": "text",
    "id": "XM1pLALq3_Fq"
   },
   "source": [
    "## Predict the values"
   ]
  },
  {
   "cell_type": "code",
   "execution_count": 38,
   "metadata": {
    "colab": {
     "base_uri": "https://localhost:8080/",
     "height": 35
    },
    "colab_type": "code",
    "id": "2WqTIkJl3vXE",
    "outputId": "0d55f88d-3592-49f2-bb00-520d65510fc4"
   },
   "outputs": [
    {
     "data": {
      "text/plain": [
       "(1200, 2)"
      ]
     },
     "execution_count": 38,
     "metadata": {
      "tags": []
     },
     "output_type": "execute_result"
    }
   ],
   "source": [
    "predictions = model.predict(X_test)\n",
    "predictions.shape"
   ]
  },
  {
   "cell_type": "code",
   "execution_count": null,
   "metadata": {
    "colab": {},
    "colab_type": "code",
    "id": "Im1WSv9wLMFj"
   },
   "outputs": [],
   "source": [
    "#predictions"
   ]
  },
  {
   "cell_type": "markdown",
   "metadata": {
    "colab_type": "text",
    "id": "8rnXKv9t5A87"
   },
   "source": [
    "## Get Spearman Rank Score"
   ]
  },
  {
   "cell_type": "markdown",
   "metadata": {
    "colab_type": "text",
    "id": "VinG1EjBZrYL"
   },
   "source": [
    "### MLP results"
   ]
  },
  {
   "cell_type": "code",
   "execution_count": 36,
   "metadata": {
    "colab": {
     "base_uri": "https://localhost:8080/",
     "height": 123
    },
    "colab_type": "code",
    "id": "YntwJ3Yj4DKl",
    "outputId": "0cf07cc9-3731-42e7-ac1c-d0cdd1f94f7a"
   },
   "outputs": [
    {
     "name": "stdout",
     "output_type": "stream",
     "text": [
      "[[1.         0.99999864 0.41750116 0.19133924]\n",
      " [0.99999864 1.         0.41752768 0.1913028 ]\n",
      " [0.41750116 0.41752768 1.         0.34074423]\n",
      " [0.19133924 0.1913028  0.34074423 1.        ]]\n",
      "Short-term: 0.4175276795226911\n",
      "Long-term: 0.19130279815022205\n"
     ]
    }
   ],
   "source": [
    "rho = scipy.stats.spearmanr(predictions, Y_test)[0]\n",
    "print(rho)\n",
    "print(\"Short-term:\", rho[2][1])\n",
    "print(\"Long-term:\", rho[3][1])"
   ]
  },
  {
   "cell_type": "markdown",
   "metadata": {
    "colab_type": "text",
    "id": "zGl5HYSAZ2C-"
   },
   "source": [
    "### RNN results"
   ]
  },
  {
   "cell_type": "code",
   "execution_count": 40,
   "metadata": {
    "colab": {
     "base_uri": "https://localhost:8080/",
     "height": 123
    },
    "colab_type": "code",
    "id": "EZIdhMliZ1QT",
    "outputId": "fa404990-db52-45b2-eafd-7e215f28a7e6"
   },
   "outputs": [
    {
     "name": "stdout",
     "output_type": "stream",
     "text": [
      "[[1.         0.99952642 0.41409921 0.20020623]\n",
      " [0.99952642 1.         0.41507741 0.19963614]\n",
      " [0.41409921 0.41507741 1.         0.34074423]\n",
      " [0.20020623 0.19963614 0.34074423 1.        ]]\n",
      "Short-term: 0.4150774083298703\n",
      "Long-term: 0.1996361429004095\n"
     ]
    }
   ],
   "source": [
    "rho = scipy.stats.spearmanr(predictions, Y_test)[0]\n",
    "print(rho)\n",
    "print(\"Short-term:\", rho[2][1])\n",
    "print(\"Long-term:\", rho[3][1])"
   ]
  },
  {
   "cell_type": "markdown",
   "metadata": {
    "colab_type": "text",
    "id": "US0AIAVzZ4hd"
   },
   "source": [
    "### CNN results"
   ]
  },
  {
   "cell_type": "code",
   "execution_count": 31,
   "metadata": {
    "colab": {
     "base_uri": "https://localhost:8080/",
     "height": 123
    },
    "colab_type": "code",
    "id": "ZL10o3F3Zz5E",
    "outputId": "9298239d-50fe-4b0a-cf65-c6181398e51b"
   },
   "outputs": [
    {
     "name": "stdout",
     "output_type": "stream",
     "text": [
      "[[1.         0.99652218 0.1714257  0.08155574]\n",
      " [0.99652218 1.         0.1663675  0.07894137]\n",
      " [0.1714257  0.1663675  1.         0.34074423]\n",
      " [0.08155574 0.07894137 0.34074423 1.        ]]\n",
      "Short-term: 0.16636749821302732\n",
      "Long-term: 0.0789413651878885\n"
     ]
    }
   ],
   "source": [
    "rho = scipy.stats.spearmanr(predictions, Y_test)[0]\n",
    "print(rho)\n",
    "print(\"Short-term:\", rho[2][1])\n",
    "print(\"Long-term:\", rho[3][1])"
   ]
  },
  {
   "cell_type": "markdown",
   "metadata": {
    "colab_type": "text",
    "id": "YorYNcIu5M7b"
   },
   "source": [
    "## Save Model and Create Predictor Score CSV"
   ]
  },
  {
   "cell_type": "code",
   "execution_count": null,
   "metadata": {
    "colab": {},
    "colab_type": "code",
    "id": "atw9nGVr4L3I"
   },
   "outputs": [],
   "source": [
    "#model.save('./my_model_selu_adam.h5')\n",
    "final_results = pd.DataFrame({'video':labels['video'][4800:],'Short-term-pred':predictions[:,0],'Long-term-pred':predictions[:,1], 'Short-term-true':labels['short-term_memorability'][4800:], 'Long-term-true':labels['long-term_memorability'][4800:]})\n",
    "final_results = final_results.reset_index(drop=True)"
   ]
  },
  {
   "cell_type": "code",
   "execution_count": null,
   "metadata": {
    "colab": {},
    "colab_type": "code",
    "id": "orND916M5vws"
   },
   "outputs": [],
   "source": [
    "final_results\n",
    "#final_results.to_csv('RNN_results.csv')"
   ]
  },
  {
   "cell_type": "code",
   "execution_count": null,
   "metadata": {
    "colab": {},
    "colab_type": "code",
    "id": "Iy-uzR4kRZWn"
   },
   "outputs": [],
   "source": []
  },
  {
   "cell_type": "markdown",
   "metadata": {
    "colab_type": "text",
    "id": "x3cwhNhnR1Oa"
   },
   "source": [
    "## --- END OF MODELS ---"
   ]
  },
  {
   "cell_type": "markdown",
   "metadata": {
    "colab_type": "text",
    "id": "XBnmpJHXRZ2K"
   },
   "source": [
    "## Some additional pre training performed to get hyperparameters"
   ]
  },
  {
   "cell_type": "code",
   "execution_count": null,
   "metadata": {
    "colab": {},
    "colab_type": "code",
    "id": "-CQEh8oY5wxK"
   },
   "outputs": [],
   "source": [
    "## Below code is a quick snippet used to perform gridsearch and get hyperparameters\n",
    "\n",
    "from keras.models import Sequential\n",
    "from keras.layers import Dense\n",
    "from keras.wrappers.scikit_learn import KerasClassifier, KerasRegressor\n",
    "from sklearn.model_selection import StratifiedKFold, KFold\n",
    "from sklearn.model_selection import cross_val_score\n",
    "import numpy\n",
    "from keras import regularizers\n",
    "from keras_tqdm import TQDMNotebookCallback\n",
    "\n",
    "\n",
    "# Function to create model, required for KerasClassifier\n",
    "def create_model(num_neuron='10',activation='selu', optimizer='adamax', dropout='0.5', kernel_lambda='0.001', kernel_init='glorot_uniform'):\n",
    "    # create model\n",
    "    len_token = len(counts)\n",
    "    model = Sequential()\n",
    "    model.add(layers.Dense(num_neuron,activation=activation,kernel_regularizer=regularizers.l2(kernel_lambda),\n",
    "                           input_shape=(len_token,))) # there are 5191 inputs ! => 10 nodes\n",
    "    model.add(layers.Dropout(dropout))\n",
    "    model.add(layers.Dense(num_neuron,activation=activation,kernel_regularizer=regularizers.l2(kernel_lambda)))\n",
    "    model.add(layers.Dropout(dropout))\n",
    "    model.add(layers.Dense(2,activation='sigmoid')) # there are 2 probability outputs! try 'selu'\n",
    "    model.compile(optimizer=optimizer, loss='mse',metrics=['accuracy']) #try adamax\n",
    "    return model\n",
    "\n",
    "# create model\n",
    "model = KerasRegressor(build_fn=create_model, verbose=0)\n",
    "\n",
    "# evaluate using 10-fold cross validation\n",
    "# kfold = KFold(n_splits=5, shuffle=True, random_state=1)\n",
    "\n",
    "\n"
   ]
  },
  {
   "cell_type": "code",
   "execution_count": null,
   "metadata": {
    "colab": {},
    "colab_type": "code",
    "id": "EDyaEPN9Av4s"
   },
   "outputs": [],
   "source": [
    "# Hyperparameters tuning \n",
    "\n",
    "# grid search for No.of epochs, batch size, optimizer, Learning Rate, Momentum, \n",
    "# Network Weight Initialization, Dropout Regularization, Number of Neurons in the Hidden Layer \n",
    "from sklearn.model_selection import GridSearchCV\n",
    "epochs = [10] #[10, 20, 30, 50]\n",
    "batches = [5] #[5, 10, 20, 40, 60, 80, 100]\n",
    "\n",
    "#learn_rates = [0.001, 0.01, 0.1, 0.2, 0.3]\n",
    "#momentums = [0.0, 0.2, 0.4, 0.6, 0.8, 0.9]\n",
    "dropouts = [0.5] #[0.0, 0.1, 0.2, 0.3, 0.4, 0.5, 0.6, 0.7, 0.8, 0.9]\n",
    "#weight_constraint = [1, 2, 3, 4, 5]\n",
    "num_neurons = [10] #[1, 10, 20, 30, 40, 50]\n",
    "\n",
    "optimizers =  #['RMSprop','Adagrad','SGD','Adadelta','Adam','Adamax','Nadam']\n",
    "#activationss = ['softmax','softplus','softsign','relu','tanh','sigmoid','selu','hard_sigmoid','linear']\n",
    "activations = ['relu','selu','linear']\n",
    "\n",
    "kernel_inits = ['glorot_uniform','glorot_normal','normal','uniform',\n",
    "                      'lecun_uniform','zero','he_normal','he_uniform']\n",
    "\n",
    "kernel_lambdas = [0.0001]  #[0.0001, 0.0005, 0.001, 0.005, 0.01, 0.05, 0.1, 0.5]\n",
    "\n",
    "\n",
    "param_grid = dict(optimizer=optimizers, epochs=epochs, batch_size=batches, kernel_init=kernel_inits, kernel_lambda=kernel_lambdas, \n",
    "                  num_neuron=num_neurons, dropout=dropouts, )\n",
    "grid = GridSearchCV(estimator=model, param_grid=param_grid, verbose=15, n_jobs=-1)\n",
    "grid_result = grid.fit(X_train, Y_train)\n",
    "\n"
   ]
  }
 ],
 "metadata": {
  "accelerator": "GPU",
  "colab": {
   "collapsed_sections": [],
   "name": "Final_results.ipynb",
   "provenance": [],
   "version": "0.3.2"
  },
  "kernelspec": {
   "display_name": "Python 3",
   "language": "python",
   "name": "python3"
  },
  "language_info": {
   "codemirror_mode": {
    "name": "ipython",
    "version": 3
   },
   "file_extension": ".py",
   "mimetype": "text/x-python",
   "name": "python",
   "nbconvert_exporter": "python",
   "pygments_lexer": "ipython3",
   "version": "3.7.4"
  }
 },
 "nbformat": 4,
 "nbformat_minor": 4
}
